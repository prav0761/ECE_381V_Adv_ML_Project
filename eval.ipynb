{
 "cells": [
  {
   "cell_type": "code",
   "execution_count": 1,
   "metadata": {},
   "outputs": [],
   "source": [
    "import torch\n",
    "import numpy as np\n",
    "import torchvision\n",
    "from torchvision import transforms\n",
    "from PIL import Image\n",
    "import requests\n",
    "import time\n",
    "import numpy as np\n",
    "import io\n",
    "from io import BytesIO\n",
    "import matplotlib.pyplot as plt\n",
    "import torchvision.models as models\n",
    "from torch.autograd import Variable\n",
    "import torch.nn.functional as F\n",
    "import torchvision.transforms as transforms\n",
    "import torchvision.datasets as datasets\n",
    "from torch.utils.data import DataLoader\n",
    "import os\n",
    "from torch.utils.data import Dataset\n",
    "import torch.nn.init as init\n",
    "from torch.nn.utils.rnn import pad_sequence\n",
    "import random\n",
    "from tqdm import tqdm\n",
    "import json\n",
    "from torch.optim.lr_scheduler import CosineAnnealingLR\n",
    "import threading\n",
    "import torchvision.models as models\n",
    "import torch.nn as nn\n",
    "from pytorch_pretrained_bert import OpenAIGPTTokenizer, OpenAIGPTModel\n",
    "from nltk.corpus import wordnet\n",
    "from image_transforms import SimCLRData_image_Transform\n",
    "from dataset import FlickrDataset,Flickr30kDataset\n",
    "from model_advml import ResNetSimCLR\n",
    "from metrics import  intra_ContrastiveLoss ,Optimizer_simclr\n",
    "from utils import get_gpu_stats,layerwise_trainable_parameters,count_trainable_parameters\n",
    "from train_fns import train,val,psnr,calculate_psnr\n",
    "from logger import Logger\n",
    "from args import args_project"
   ]
  },
  {
   "cell_type": "code",
   "execution_count": 4,
   "metadata": {},
   "outputs": [
    {
     "name": "stdout",
     "output_type": "stream",
     "text": [
      "1\n"
     ]
    }
   ],
   "source": [
    "torch.manual_seed(1234)\n",
    "weights_file='/work/08629/pradhakr/maverick2/advml_project/train_results/image_model1_30k.pth'\n",
    "batch_size=64\n",
    "intra_projecton_dim=128\n",
    "hidden_dim =512\n",
    "layers_to_train=['layer4']\n",
    "optimizer_name='sgd'\n",
    "lr=0.001\n",
    "momentum=0.9\n",
    "weight_decay=1e-4\n",
    "reconstruction_tradeoff=1\n",
    "contrastive_tradeoff=0\n",
    "temperature=0.07\n",
    "noise_amount=0.2\n",
    "scheduler_image=None\n",
    "dataset = Flickr30kDataset('/work/08629/pradhakr/maverick2/cv_project/flickr30k-images', \n",
    "                           '/work/08629/pradhakr/maverick2/cv_project/flickr30k_captions/results_20130124.token',\n",
    "                           caption_index_1=0,\n",
    "                           caption_index_2=1,\n",
    "                          image_transform=SimCLRData_image_Transform(),\n",
    "                          noise_transform=True,\n",
    "                              evaluate=False,\n",
    "                              noise_amount=noise_amount)\n",
    "indices = list(range(len(dataset)))\n",
    "train_indices = indices[:29783]\n",
    "val_indices = indices[29783:30783]\n",
    "test_indices = indices[30783:]\n",
    "train_set = torch.utils.data.Subset(dataset, train_indices)\n",
    "val_set = torch.utils.data.Subset(dataset, val_indices)\n",
    "test_set = torch.utils.data.Subset(dataset, test_indices)\n",
    "batch_size=batch_size\n",
    "train_loader = DataLoader(train_set, \n",
    "                             batch_size=batch_size, \n",
    "                             shuffle=True, \n",
    "                             num_workers=4, \n",
    "                             pin_memory=True)\n",
    "val_loader = DataLoader(val_set, \n",
    "                         batch_size=batch_size, \n",
    "                         shuffle=False, \n",
    "                         num_workers=4, \n",
    "                         pin_memory=True)\n",
    "test_loader = DataLoader(test_set, \n",
    "                         batch_size=batch_size, \n",
    "                         shuffle=False, \n",
    "                         num_workers=4, \n",
    "                         pin_memory=True)\n",
    "device = torch.device(\"cuda\" if torch.cuda.is_available() else \"cpu\")\n",
    "resnet_model = ResNetSimCLR(\n",
    "        model='resnet50',\n",
    "        intra_projection_dim=intra_projecton_dim,\n",
    "        hidden_dim =hidden_dim,\n",
    "        layers_to_train=layers_to_train\n",
    "    ).to(device)\n",
    "resnet_model.load_state_dict(torch.load(weights_file))\n",
    "resnet_model.eval()\n",
    "print('1')\n",
    "#1.06,-0.26"
   ]
  },
  {
   "cell_type": "code",
   "execution_count": 5,
   "metadata": {},
   "outputs": [
    {
     "name": "stdout",
     "output_type": "stream",
     "text": [
      "test_loss 1.0638714507222176\n"
     ]
    }
   ],
   "source": [
    "intra_loss=intra_ContrastiveLoss(device,temperature=temperature)\n",
    "test_loss=val(test_loader,\n",
    "            resnet_model,\n",
    "            intra_loss,\n",
    "            device,\n",
    "            reconstruction_tradeoff,\n",
    "            contrastive_tradeoff)\n",
    "#psnr_loss=calculate_psnr(test_loader, resnet_model,device)\n",
    "print('test_loss',test_loss)\n"
   ]
  },
  {
   "cell_type": "code",
   "execution_count": 6,
   "metadata": {},
   "outputs": [
    {
     "data": {
      "text/plain": [
       "'index=2\\noriginal_images,noisy_images,contrastive_img1,contrastive_img2=s[0],s[1],s[2],s[3]\\noutput=resnet_model(noisy_images[index].unsqueeze(0), device ,reconstruct=True,contrast=False).squeeze(0).detach().cpu()\\nprint(psnr(original_images,output))\\nplt.imshow(original_images[index].permute(1,2,0))\\nplt.show()\\nplt.imshow(noisy_images[index].permute(1,2,0))\\nplt.show()\\nplt.imshow(output.permute(1,2,0))'"
      ]
     },
     "execution_count": 6,
     "metadata": {},
     "output_type": "execute_result"
    }
   ],
   "source": [
    "\"\"\"index=2\n",
    "original_images,noisy_images,contrastive_img1,contrastive_img2=s[0],s[1],s[2],s[3]\n",
    "output=resnet_model(noisy_images[index].unsqueeze(0), device ,reconstruct=True,contrast=False).squeeze(0).detach().cpu()\n",
    "print(psnr(original_images,output))\n",
    "plt.imshow(original_images[index].permute(1,2,0))\n",
    "plt.show()\n",
    "plt.imshow(noisy_images[index].permute(1,2,0))\n",
    "plt.show()\n",
    "plt.imshow(output.permute(1,2,0))\"\"\"\n"
   ]
  }
 ],
 "metadata": {
  "kernelspec": {
   "display_name": "Python 3",
   "language": "python",
   "name": "python3"
  },
  "language_info": {
   "codemirror_mode": {
    "name": "ipython",
    "version": 3
   },
   "file_extension": ".py",
   "mimetype": "text/x-python",
   "name": "python",
   "nbconvert_exporter": "python",
   "pygments_lexer": "ipython3",
   "version": "3.6.3"
  }
 },
 "nbformat": 4,
 "nbformat_minor": 2
}
